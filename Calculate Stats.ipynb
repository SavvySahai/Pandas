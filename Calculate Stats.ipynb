{
 "cells": [
  {
   "cell_type": "code",
   "execution_count": 1,
   "id": "ffcaeed8",
   "metadata": {},
   "outputs": [],
   "source": [
    "import pandas as pd"
   ]
  },
  {
   "cell_type": "code",
   "execution_count": 3,
   "id": "14908ea1",
   "metadata": {},
   "outputs": [
    {
     "name": "stdout",
     "output_type": "stream",
     "text": [
      "        Name  Salary Country\n",
      "0        Dan   40000     USA\n",
      "1  Elizabeth   32000  Brazil\n",
      "2        Jon   45000   Italy\n",
      "3      Maria   54000     USA\n",
      "4       Mark   72000     USA\n",
      "5       Bill   62000  Brazil\n",
      "6       Jess   92000   Italy\n",
      "7      Julia   55000     USA\n",
      "8       Jeff   35000   Italy\n",
      "9        Ben   48000  Brazil\n"
     ]
    }
   ],
   "source": [
    "df = pd.read_csv(\"C:\\\\Users\\\\Savvy Sahai\\\\Desktop\\\\Stats.csv\")\n",
    "print(df)"
   ]
  },
  {
   "cell_type": "code",
   "execution_count": 6,
   "id": "adc71f62",
   "metadata": {},
   "outputs": [
    {
     "name": "stdout",
     "output_type": "stream",
     "text": [
      "53500.0\n"
     ]
    }
   ],
   "source": [
    "mean = df['Salary'].mean()\n",
    "print (mean)"
   ]
  },
  {
   "cell_type": "code",
   "execution_count": 7,
   "id": "85a10f8d",
   "metadata": {},
   "outputs": [
    {
     "name": "stdout",
     "output_type": "stream",
     "text": [
      "535000\n"
     ]
    }
   ],
   "source": [
    "sum1 = df[\"Salary\"].sum()\n",
    "print(sum1)"
   ]
  },
  {
   "cell_type": "code",
   "execution_count": 8,
   "id": "ad69de95",
   "metadata": {},
   "outputs": [
    {
     "name": "stdout",
     "output_type": "stream",
     "text": [
      "92000\n"
     ]
    }
   ],
   "source": [
    "max1 = df[\"Salary\"].max()\n",
    "print(max1)"
   ]
  },
  {
   "cell_type": "code",
   "execution_count": 9,
   "id": "c0abadbc",
   "metadata": {},
   "outputs": [
    {
     "name": "stdout",
     "output_type": "stream",
     "text": [
      "32000\n"
     ]
    }
   ],
   "source": [
    "min1 = df[\"Salary\"].min()\n",
    "print(min1)"
   ]
  },
  {
   "cell_type": "code",
   "execution_count": 10,
   "id": "ad0e471b",
   "metadata": {},
   "outputs": [
    {
     "name": "stdout",
     "output_type": "stream",
     "text": [
      "10\n"
     ]
    }
   ],
   "source": [
    "count = df['Salary'].count()\n",
    "print(count)"
   ]
  },
  {
   "cell_type": "code",
   "execution_count": 11,
   "id": "5e871ed2",
   "metadata": {},
   "outputs": [
    {
     "name": "stdout",
     "output_type": "stream",
     "text": [
      "51000.0\n"
     ]
    }
   ],
   "source": [
    "median = df[\"Salary\"].median()\n",
    "print(median)"
   ]
  },
  {
   "cell_type": "code",
   "execution_count": 15,
   "id": "6bd5a7f0",
   "metadata": {},
   "outputs": [
    {
     "name": "stdout",
     "output_type": "stream",
     "text": [
      "18222.391598128816\n"
     ]
    }
   ],
   "source": [
    "std = df[\"Salary\"].std()\n",
    "print(std)"
   ]
  },
  {
   "cell_type": "code",
   "execution_count": 16,
   "id": "ac7d83fa",
   "metadata": {},
   "outputs": [
    {
     "name": "stdout",
     "output_type": "stream",
     "text": [
      "332055555.5555556\n"
     ]
    }
   ],
   "source": [
    "var = df[\"Salary\"].var()\n",
    "print(var)"
   ]
  },
  {
   "cell_type": "code",
   "execution_count": 17,
   "id": "a8887bc0",
   "metadata": {},
   "outputs": [
    {
     "name": "stdout",
     "output_type": "stream",
     "text": [
      "         Salary\n",
      "Country        \n",
      "Brazil   142000\n",
      "Italy    172000\n",
      "USA      221000\n"
     ]
    }
   ],
   "source": [
    "sum_group_by_Country = df.groupby([\"Country\"]).sum()\n",
    "print(sum_group_by_Country)"
   ]
  },
  {
   "cell_type": "code",
   "execution_count": 18,
   "id": "8c5ab7ba",
   "metadata": {},
   "outputs": [
    {
     "name": "stdout",
     "output_type": "stream",
     "text": [
      "         Name  Salary\n",
      "Country              \n",
      "Brazil      3       3\n",
      "Italy       3       3\n",
      "USA         4       4\n"
     ]
    }
   ],
   "source": [
    "count_group_by_Country = df.groupby([\"Country\"]).count()\n",
    "print(count_group_by_Country)"
   ]
  },
  {
   "cell_type": "code",
   "execution_count": 19,
   "id": "adbc4f13",
   "metadata": {},
   "outputs": [
    {
     "name": "stdout",
     "output_type": "stream",
     "text": [
      "Mean salary: 53500.0\n",
      "Sum salary: 535000\n",
      "Maximum salary: 92000\n",
      "Minimum salary: 32000\n",
      "Count of salary: 10\n",
      "Median salary: 51000.0\n",
      "Standard deviation of the given salary: 18222.391598128816\n",
      "Variance of the given salaries: 332055555.5555556\n",
      "Sum of salaries, grouped by the Country:          Salary\n",
      "Country        \n",
      "Brazil   142000\n",
      "Italy    172000\n",
      "USA      221000\n",
      "Count of salaries, grouped by the Country:          Name  Salary\n",
      "Country              \n",
      "Brazil      3       3\n",
      "Italy       3       3\n",
      "USA         4       4\n"
     ]
    }
   ],
   "source": [
    "print(\"Mean salary: \" +str(mean))\n",
    "print(\"Sum salary: \" +str(sum1))\n",
    "print(\"Maximum salary: \" +str(max1))\n",
    "print(\"Minimum salary: \" +str(min1))\n",
    "print(\"Count of salary: \" +str(count))\n",
    "print(\"Median salary: \" +str(median))\n",
    "print(\"Standard deviation of the given salary: \" +str(std))\n",
    "print(\"Variance of the given salaries: \" +str(var))\n",
    "print(\"Sum of salaries, grouped by the Country: \" +str(sum_group_by_Country))\n",
    "print(\"Count of salaries, grouped by the Country: \" +str(count_group_by_Country))"
   ]
  },
  {
   "cell_type": "code",
   "execution_count": null,
   "id": "a2dca9cf",
   "metadata": {},
   "outputs": [],
   "source": []
  }
 ],
 "metadata": {
  "kernelspec": {
   "display_name": "Python 3 (ipykernel)",
   "language": "python",
   "name": "python3"
  },
  "language_info": {
   "codemirror_mode": {
    "name": "ipython",
    "version": 3
   },
   "file_extension": ".py",
   "mimetype": "text/x-python",
   "name": "python",
   "nbconvert_exporter": "python",
   "pygments_lexer": "ipython3",
   "version": "3.9.7"
  }
 },
 "nbformat": 4,
 "nbformat_minor": 5
}
